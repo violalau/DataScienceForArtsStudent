{
 "cells": [
  {
   "cell_type": "code",
   "execution_count": 7,
   "metadata": {},
   "outputs": [],
   "source": [
    "#英语情感分析 textblob\n",
    "from textblob import TextBlob\n",
    "text = 'I am happy today. I feel sad today.'\n",
    "blob = TextBlob(text) #将字符串text转为textblob"
   ]
  },
  {
   "cell_type": "code",
   "execution_count": 12,
   "metadata": {},
   "outputs": [
    {
     "name": "stdout",
     "output_type": "stream",
     "text": [
      "Sentiment(polarity=0.8, subjectivity=1.0)\n",
      "Sentiment(polarity=-0.5, subjectivity=1.0)\n"
     ]
    }
   ],
   "source": [
    "for sentence in blob.sentences: #使用.sentences进行分句，然后使用.sentiment进行情感分析\n",
    "    print(sentence.sentiment) #polarity=[-1,1]，从负面-正面。subjectivity=（0，1），0为客观，1为主观。"
   ]
  },
  {
   "cell_type": "code",
   "execution_count": 13,
   "metadata": {},
   "outputs": [],
   "source": [
    "#中文情感分析 SnowNLP\n",
    "from snownlp import SnowNLP\n",
    "text2 = u\"我今天很快乐。我今天很愤怒。\"\n",
    "s = SnowNLP(text2)"
   ]
  },
  {
   "cell_type": "code",
   "execution_count": 29,
   "metadata": {},
   "outputs": [
    {
     "name": "stdout",
     "output_type": "stream",
     "text": [
      "0.971889316039116\n",
      "0.07763913772213482\n"
     ]
    }
   ],
   "source": [
    "for sentence in s.sentences:\n",
    "    print(SnowNLP(sentence).sentiments) #sentiments = positive的概率，范围（0，1）"
   ]
  }
 ],
 "metadata": {
  "kernelspec": {
   "display_name": "Python [conda env:py3]",
   "language": "python",
   "name": "conda-env-py3-py"
  },
  "language_info": {
   "codemirror_mode": {
    "name": "ipython",
    "version": 3
   },
   "file_extension": ".py",
   "mimetype": "text/x-python",
   "name": "python",
   "nbconvert_exporter": "python",
   "pygments_lexer": "ipython3",
   "version": "3.7.2"
  },
  "toc": {
   "base_numbering": 1,
   "nav_menu": {},
   "number_sections": true,
   "sideBar": true,
   "skip_h1_title": false,
   "title_cell": "Table of Contents",
   "title_sidebar": "Contents",
   "toc_cell": false,
   "toc_position": {},
   "toc_section_display": true,
   "toc_window_display": false
  }
 },
 "nbformat": 4,
 "nbformat_minor": 2
}
