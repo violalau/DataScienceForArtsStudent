{
 "cells": [
  {
   "cell_type": "code",
   "execution_count": 1,
   "metadata": {},
   "outputs": [],
   "source": [
    "import numpy as np\n",
    "import time"
   ]
  },
  {
   "cell_type": "code",
   "execution_count": 2,
   "metadata": {},
   "outputs": [],
   "source": [
    "import pandas as pd\n",
    "df = pd.read_excel('restaurant-comments.xlsx')"
   ]
  },
  {
   "cell_type": "code",
   "execution_count": 3,
   "metadata": {},
   "outputs": [
    {
     "data": {
      "text/html": [
       "<div>\n",
       "<style scoped>\n",
       "    .dataframe tbody tr th:only-of-type {\n",
       "        vertical-align: middle;\n",
       "    }\n",
       "\n",
       "    .dataframe tbody tr th {\n",
       "        vertical-align: top;\n",
       "    }\n",
       "\n",
       "    .dataframe thead th {\n",
       "        text-align: right;\n",
       "    }\n",
       "</style>\n",
       "<table border=\"1\" class=\"dataframe\">\n",
       "  <thead>\n",
       "    <tr style=\"text-align: right;\">\n",
       "      <th></th>\n",
       "      <th>comments</th>\n",
       "      <th>date</th>\n",
       "    </tr>\n",
       "  </thead>\n",
       "  <tbody>\n",
       "    <tr>\n",
       "      <th>24</th>\n",
       "      <td>这次是在情人节当天过去的，以前从来没在情人节正日子出来过，不是因为没有男朋友，而是感觉哪哪人...</td>\n",
       "      <td>2017-02-20 16:00:00</td>\n",
       "    </tr>\n",
       "    <tr>\n",
       "      <th>23</th>\n",
       "      <td>A餐厅火锅&lt;br&gt;上周五带对象去吃的，我本人对火锅不是特别爱吃，吃不了辣，对象喜欢吃辣的，就...</td>\n",
       "      <td>2017-03-16 16:00:00</td>\n",
       "    </tr>\n",
       "    <tr>\n",
       "      <th>17</th>\n",
       "      <td>A餐厅新开路店是在天津所有A餐厅门店当中，我最愿意光临的，因为这里停车方便，排队人也不像其他...</td>\n",
       "      <td>2017-03-17 16:00:00</td>\n",
       "    </tr>\n",
       "    <tr>\n",
       "      <th>10</th>\n",
       "      <td>服务好赞！外送小哥实际A餐厅自己配的，送之前一个电话说别急已经在送的路上，送到后也一个电话说...</td>\n",
       "      <td>2017-04-10 16:00:00</td>\n",
       "    </tr>\n",
       "    <tr>\n",
       "      <th>19</th>\n",
       "      <td>服务和味道一如既往的好，主要最爱吃他家DIY的小料！这次还用手机扫了个公众平台用一楼的照片打...</td>\n",
       "      <td>2017-04-14 16:00:00</td>\n",
       "    </tr>\n",
       "  </tbody>\n",
       "</table>\n",
       "</div>"
      ],
      "text/plain": [
       "                                             comments                date\n",
       "24  这次是在情人节当天过去的，以前从来没在情人节正日子出来过，不是因为没有男朋友，而是感觉哪哪人... 2017-02-20 16:00:00\n",
       "23  A餐厅火锅<br>上周五带对象去吃的，我本人对火锅不是特别爱吃，吃不了辣，对象喜欢吃辣的，就... 2017-03-16 16:00:00\n",
       "17  A餐厅新开路店是在天津所有A餐厅门店当中，我最愿意光临的，因为这里停车方便，排队人也不像其他... 2017-03-17 16:00:00\n",
       "10  服务好赞！外送小哥实际A餐厅自己配的，送之前一个电话说别急已经在送的路上，送到后也一个电话说... 2017-04-10 16:00:00\n",
       "19  服务和味道一如既往的好，主要最爱吃他家DIY的小料！这次还用手机扫了个公众平台用一楼的照片打... 2017-04-14 16:00:00"
      ]
     },
     "execution_count": 3,
     "metadata": {},
     "output_type": "execute_result"
    }
   ],
   "source": [
    "df.sort_values(by=['date'],inplace=True)\n",
    "df.head()"
   ]
  },
  {
   "cell_type": "code",
   "execution_count": 4,
   "metadata": {},
   "outputs": [
    {
     "data": {
      "text/plain": [
       "dtype('<M8[ns]')"
      ]
     },
     "execution_count": 4,
     "metadata": {},
     "output_type": "execute_result"
    }
   ],
   "source": [
    "df['date'].dtype"
   ]
  },
  {
   "cell_type": "code",
   "execution_count": 5,
   "metadata": {},
   "outputs": [],
   "source": [
    "from snownlp import SnowNLP\n",
    "def get_sentiment_cn(text):\n",
    "    s = SnowNLP(text)\n",
    "    return round(s.sentiments,4)\n",
    "df['sentiment'] = df['comments'].apply(get_sentiment_cn)"
   ]
  },
  {
   "cell_type": "code",
   "execution_count": 6,
   "metadata": {},
   "outputs": [
    {
     "data": {
      "text/html": [
       "<div>\n",
       "<style scoped>\n",
       "    .dataframe tbody tr th:only-of-type {\n",
       "        vertical-align: middle;\n",
       "    }\n",
       "\n",
       "    .dataframe tbody tr th {\n",
       "        vertical-align: top;\n",
       "    }\n",
       "\n",
       "    .dataframe thead th {\n",
       "        text-align: right;\n",
       "    }\n",
       "</style>\n",
       "<table border=\"1\" class=\"dataframe\">\n",
       "  <thead>\n",
       "    <tr style=\"text-align: right;\">\n",
       "      <th></th>\n",
       "      <th>comments</th>\n",
       "      <th>date</th>\n",
       "      <th>sentiment</th>\n",
       "    </tr>\n",
       "  </thead>\n",
       "  <tbody>\n",
       "    <tr>\n",
       "      <th>24</th>\n",
       "      <td>这次是在情人节当天过去的，以前从来没在情人节正日子出来过，不是因为没有男朋友，而是感觉哪哪人...</td>\n",
       "      <td>2017-02-20 16:00:00</td>\n",
       "      <td>0.0000</td>\n",
       "    </tr>\n",
       "    <tr>\n",
       "      <th>23</th>\n",
       "      <td>A餐厅火锅&lt;br&gt;上周五带对象去吃的，我本人对火锅不是特别爱吃，吃不了辣，对象喜欢吃辣的，就...</td>\n",
       "      <td>2017-03-16 16:00:00</td>\n",
       "      <td>1.0000</td>\n",
       "    </tr>\n",
       "    <tr>\n",
       "      <th>17</th>\n",
       "      <td>A餐厅新开路店是在天津所有A餐厅门店当中，我最愿意光临的，因为这里停车方便，排队人也不像其他...</td>\n",
       "      <td>2017-03-17 16:00:00</td>\n",
       "      <td>0.9828</td>\n",
       "    </tr>\n",
       "    <tr>\n",
       "      <th>10</th>\n",
       "      <td>服务好赞！外送小哥实际A餐厅自己配的，送之前一个电话说别急已经在送的路上，送到后也一个电话说...</td>\n",
       "      <td>2017-04-10 16:00:00</td>\n",
       "      <td>0.0002</td>\n",
       "    </tr>\n",
       "    <tr>\n",
       "      <th>19</th>\n",
       "      <td>服务和味道一如既往的好，主要最爱吃他家DIY的小料！这次还用手机扫了个公众平台用一楼的照片打...</td>\n",
       "      <td>2017-04-14 16:00:00</td>\n",
       "      <td>0.9999</td>\n",
       "    </tr>\n",
       "  </tbody>\n",
       "</table>\n",
       "</div>"
      ],
      "text/plain": [
       "                                             comments                date  \\\n",
       "24  这次是在情人节当天过去的，以前从来没在情人节正日子出来过，不是因为没有男朋友，而是感觉哪哪人... 2017-02-20 16:00:00   \n",
       "23  A餐厅火锅<br>上周五带对象去吃的，我本人对火锅不是特别爱吃，吃不了辣，对象喜欢吃辣的，就... 2017-03-16 16:00:00   \n",
       "17  A餐厅新开路店是在天津所有A餐厅门店当中，我最愿意光临的，因为这里停车方便，排队人也不像其他... 2017-03-17 16:00:00   \n",
       "10  服务好赞！外送小哥实际A餐厅自己配的，送之前一个电话说别急已经在送的路上，送到后也一个电话说... 2017-04-10 16:00:00   \n",
       "19  服务和味道一如既往的好，主要最爱吃他家DIY的小料！这次还用手机扫了个公众平台用一楼的照片打... 2017-04-14 16:00:00   \n",
       "\n",
       "    sentiment  \n",
       "24     0.0000  \n",
       "23     1.0000  \n",
       "17     0.9828  \n",
       "10     0.0002  \n",
       "19     0.9999  "
      ]
     },
     "execution_count": 6,
     "metadata": {},
     "output_type": "execute_result"
    }
   ],
   "source": [
    "df.head()"
   ]
  },
  {
   "cell_type": "code",
   "execution_count": 7,
   "metadata": {},
   "outputs": [
    {
     "data": {
      "text/plain": [
       "0.6987518518518518"
      ]
     },
     "execution_count": 7,
     "metadata": {},
     "output_type": "execute_result"
    }
   ],
   "source": [
    "df['sentiment'].mean() #总体正面"
   ]
  },
  {
   "cell_type": "code",
   "execution_count": 8,
   "metadata": {},
   "outputs": [
    {
     "data": {
      "text/plain": [
       "0.927"
      ]
     },
     "execution_count": 8,
     "metadata": {},
     "output_type": "execute_result"
    }
   ],
   "source": [
    "df['sentiment'].median() #中位数比均值高，而且几乎接近1，意味着大部分评价都非常满意，但仍存在少部分异常点拉低了平均值"
   ]
  },
  {
   "cell_type": "code",
   "execution_count": 10,
   "metadata": {},
   "outputs": [
    {
     "data": {
      "text/html": [
       "\n",
       "<script>\n",
       "    require.config({\n",
       "        paths: {\n",
       "            'echarts':'https://assets.pyecharts.org/assets/echarts.min'\n",
       "        }\n",
       "    });\n",
       "</script>\n",
       "\n",
       "        <div id=\"c79617ce287447b6a7b94204cd778c8e\" style=\"width:900px; height:500px;\"></div>\n",
       "\n",
       "<script>\n",
       "        require(['echarts'], function(echarts) {\n",
       "                var chart_c79617ce287447b6a7b94204cd778c8e = echarts.init(\n",
       "                    document.getElementById('c79617ce287447b6a7b94204cd778c8e'), 'white', {renderer: 'canvas'});\n",
       "                var option_c79617ce287447b6a7b94204cd778c8e = {\n",
       "    \"animation\": true,\n",
       "    \"animationThreshold\": 2000,\n",
       "    \"animationDuration\": 1000,\n",
       "    \"animationEasing\": \"cubicOut\",\n",
       "    \"animationDelay\": 0,\n",
       "    \"animationDurationUpdate\": 300,\n",
       "    \"animationEasingUpdate\": \"cubicOut\",\n",
       "    \"animationDelayUpdate\": 0,\n",
       "    \"color\": [\n",
       "        \"#c23531\",\n",
       "        \"#2f4554\",\n",
       "        \"#61a0a8\",\n",
       "        \"#d48265\",\n",
       "        \"#749f83\",\n",
       "        \"#ca8622\",\n",
       "        \"#bda29a\",\n",
       "        \"#6e7074\",\n",
       "        \"#546570\",\n",
       "        \"#c4ccd3\",\n",
       "        \"#f05b72\",\n",
       "        \"#ef5b9c\",\n",
       "        \"#f47920\",\n",
       "        \"#905a3d\",\n",
       "        \"#fab27b\",\n",
       "        \"#2a5caa\",\n",
       "        \"#444693\",\n",
       "        \"#726930\",\n",
       "        \"#b2d235\",\n",
       "        \"#6d8346\",\n",
       "        \"#ac6767\",\n",
       "        \"#1d953f\",\n",
       "        \"#6950a1\",\n",
       "        \"#918597\"\n",
       "    ],\n",
       "    \"series\": [\n",
       "        {\n",
       "            \"type\": \"line\",\n",
       "            \"name\": \"sentiment\",\n",
       "            \"connectNulls\": false,\n",
       "            \"symbolSize\": 4,\n",
       "            \"showSymbol\": true,\n",
       "            \"smooth\": false,\n",
       "            \"step\": false,\n",
       "            \"data\": [\n",
       "                [\n",
       "                    \"2017-02-20T16:00:00\",\n",
       "                    0.0\n",
       "                ],\n",
       "                [\n",
       "                    \"2017-03-16T16:00:00\",\n",
       "                    1.0\n",
       "                ],\n",
       "                [\n",
       "                    \"2017-03-17T16:00:00\",\n",
       "                    0.9828\n",
       "                ],\n",
       "                [\n",
       "                    \"2017-04-10T16:00:00\",\n",
       "                    0.0002\n",
       "                ],\n",
       "                [\n",
       "                    \"2017-04-14T16:00:00\",\n",
       "                    0.9999\n",
       "                ],\n",
       "                [\n",
       "                    \"2017-04-14T16:00:00\",\n",
       "                    0.9101\n",
       "                ],\n",
       "                [\n",
       "                    \"2017-04-20T16:00:00\",\n",
       "                    1.0\n",
       "                ],\n",
       "                [\n",
       "                    \"2017-04-22T16:00:00\",\n",
       "                    0.9821\n",
       "                ],\n",
       "                [\n",
       "                    \"2017-04-23T16:00:00\",\n",
       "                    1.0\n",
       "                ],\n",
       "                [\n",
       "                    \"2017-04-25T16:00:00\",\n",
       "                    0.1182\n",
       "                ],\n",
       "                [\n",
       "                    \"2017-04-25T16:00:00\",\n",
       "                    0.0012\n",
       "                ],\n",
       "                [\n",
       "                    \"2017-04-27T16:00:00\",\n",
       "                    1.0\n",
       "                ],\n",
       "                [\n",
       "                    \"2017-05-04T16:00:00\",\n",
       "                    0.927\n",
       "                ],\n",
       "                [\n",
       "                    \"2017-05-05T16:00:00\",\n",
       "                    0.998\n",
       "                ],\n",
       "                [\n",
       "                    \"2017-05-06T16:00:00\",\n",
       "                    0.8931\n",
       "                ],\n",
       "                [\n",
       "                    \"2017-05-07T16:00:00\",\n",
       "                    0.6235\n",
       "                ],\n",
       "                [\n",
       "                    \"2017-05-07T16:00:00\",\n",
       "                    1.0\n",
       "                ],\n",
       "                [\n",
       "                    \"2017-05-10T16:00:00\",\n",
       "                    0.4507\n",
       "                ],\n",
       "                [\n",
       "                    \"2017-05-12T16:00:00\",\n",
       "                    0.0427\n",
       "                ],\n",
       "                [\n",
       "                    \"2017-05-14T16:00:00\",\n",
       "                    0.4244\n",
       "                ],\n",
       "                [\n",
       "                    \"2017-05-14T16:00:00\",\n",
       "                    1.0\n",
       "                ],\n",
       "                [\n",
       "                    \"2017-05-14T16:00:00\",\n",
       "                    1.0\n",
       "                ],\n",
       "                [\n",
       "                    \"2017-05-20T16:00:00\",\n",
       "                    0.0064\n",
       "                ],\n",
       "                [\n",
       "                    \"2017-05-21T16:00:00\",\n",
       "                    0.8712\n",
       "                ],\n",
       "                [\n",
       "                    \"2017-05-21T16:00:00\",\n",
       "                    1.0\n",
       "                ],\n",
       "                [\n",
       "                    \"2017-05-22T16:00:00\",\n",
       "                    1.0\n",
       "                ],\n",
       "                [\n",
       "                    \"2017-05-24T01:50:00\",\n",
       "                    0.6348\n",
       "                ]\n",
       "            ],\n",
       "            \"hoverAnimation\": true,\n",
       "            \"label\": {\n",
       "                \"show\": true,\n",
       "                \"position\": \"top\",\n",
       "                \"margin\": 8\n",
       "            },\n",
       "            \"lineStyle\": {\n",
       "                \"width\": 1,\n",
       "                \"opacity\": 1,\n",
       "                \"curveness\": 0,\n",
       "                \"type\": \"solid\"\n",
       "            },\n",
       "            \"areaStyle\": {\n",
       "                \"opacity\": 0\n",
       "            }\n",
       "        }\n",
       "    ],\n",
       "    \"legend\": [\n",
       "        {\n",
       "            \"data\": [\n",
       "                \"sentiment\"\n",
       "            ],\n",
       "            \"selected\": {\n",
       "                \"sentiment\": true\n",
       "            }\n",
       "        }\n",
       "    ],\n",
       "    \"tooltip\": {\n",
       "        \"show\": true,\n",
       "        \"trigger\": \"item\",\n",
       "        \"triggerOn\": \"mousemove|click\",\n",
       "        \"axisPointer\": {\n",
       "            \"type\": \"line\"\n",
       "        },\n",
       "        \"textStyle\": {\n",
       "            \"fontSize\": 14\n",
       "        },\n",
       "        \"borderWidth\": 0\n",
       "    },\n",
       "    \"xAxis\": [\n",
       "        {\n",
       "            \"show\": true,\n",
       "            \"scale\": false,\n",
       "            \"nameLocation\": \"end\",\n",
       "            \"nameGap\": 15,\n",
       "            \"gridIndex\": 0,\n",
       "            \"inverse\": false,\n",
       "            \"offset\": 0,\n",
       "            \"splitNumber\": 5,\n",
       "            \"minInterval\": 0,\n",
       "            \"splitLine\": {\n",
       "                \"show\": false,\n",
       "                \"lineStyle\": {\n",
       "                    \"width\": 1,\n",
       "                    \"opacity\": 1,\n",
       "                    \"curveness\": 0,\n",
       "                    \"type\": \"solid\"\n",
       "                }\n",
       "            },\n",
       "            \"data\": [\n",
       "                \"2017-02-20T16:00:00\",\n",
       "                \"2017-03-16T16:00:00\",\n",
       "                \"2017-03-17T16:00:00\",\n",
       "                \"2017-04-10T16:00:00\",\n",
       "                \"2017-04-14T16:00:00\",\n",
       "                \"2017-04-14T16:00:00\",\n",
       "                \"2017-04-20T16:00:00\",\n",
       "                \"2017-04-22T16:00:00\",\n",
       "                \"2017-04-23T16:00:00\",\n",
       "                \"2017-04-25T16:00:00\",\n",
       "                \"2017-04-25T16:00:00\",\n",
       "                \"2017-04-27T16:00:00\",\n",
       "                \"2017-05-04T16:00:00\",\n",
       "                \"2017-05-05T16:00:00\",\n",
       "                \"2017-05-06T16:00:00\",\n",
       "                \"2017-05-07T16:00:00\",\n",
       "                \"2017-05-07T16:00:00\",\n",
       "                \"2017-05-10T16:00:00\",\n",
       "                \"2017-05-12T16:00:00\",\n",
       "                \"2017-05-14T16:00:00\",\n",
       "                \"2017-05-14T16:00:00\",\n",
       "                \"2017-05-14T16:00:00\",\n",
       "                \"2017-05-20T16:00:00\",\n",
       "                \"2017-05-21T16:00:00\",\n",
       "                \"2017-05-21T16:00:00\",\n",
       "                \"2017-05-22T16:00:00\",\n",
       "                \"2017-05-24T01:50:00\"\n",
       "            ]\n",
       "        }\n",
       "    ],\n",
       "    \"yAxis\": [\n",
       "        {\n",
       "            \"show\": true,\n",
       "            \"scale\": false,\n",
       "            \"nameLocation\": \"end\",\n",
       "            \"nameGap\": 15,\n",
       "            \"gridIndex\": 0,\n",
       "            \"inverse\": false,\n",
       "            \"offset\": 0,\n",
       "            \"splitNumber\": 5,\n",
       "            \"minInterval\": 0,\n",
       "            \"splitLine\": {\n",
       "                \"show\": false,\n",
       "                \"lineStyle\": {\n",
       "                    \"width\": 1,\n",
       "                    \"opacity\": 1,\n",
       "                    \"curveness\": 0,\n",
       "                    \"type\": \"solid\"\n",
       "                }\n",
       "            }\n",
       "        }\n",
       "    ]\n",
       "};\n",
       "                chart_c79617ce287447b6a7b94204cd778c8e.setOption(option_c79617ce287447b6a7b94204cd778c8e);\n",
       "        });\n",
       "    </script>\n"
      ],
      "text/plain": [
       "<pyecharts.render.display.HTML at 0x244e3288940>"
      ]
     },
     "execution_count": 10,
     "metadata": {},
     "output_type": "execute_result"
    }
   ],
   "source": [
    "from pyecharts.charts import Line\n",
    "y_data = df.sentiment.tolist()\n",
    "x_data = df.date.tolist()\n",
    "\n",
    "time_series = (\n",
    "    Line().add_xaxis(x_data).add_yaxis('sentiment', y_data)\n",
    ")\n",
    "\n",
    "time_series.render_notebook()"
   ]
  },
  {
   "cell_type": "code",
   "execution_count": 16,
   "metadata": {},
   "outputs": [
    {
     "data": {
      "text/html": [
       "<div>\n",
       "<style scoped>\n",
       "    .dataframe tbody tr th:only-of-type {\n",
       "        vertical-align: middle;\n",
       "    }\n",
       "\n",
       "    .dataframe tbody tr th {\n",
       "        vertical-align: top;\n",
       "    }\n",
       "\n",
       "    .dataframe thead th {\n",
       "        text-align: right;\n",
       "    }\n",
       "</style>\n",
       "<table border=\"1\" class=\"dataframe\">\n",
       "  <thead>\n",
       "    <tr style=\"text-align: right;\">\n",
       "      <th></th>\n",
       "      <th>comments</th>\n",
       "      <th>date</th>\n",
       "      <th>sentiment</th>\n",
       "    </tr>\n",
       "  </thead>\n",
       "  <tbody>\n",
       "    <tr>\n",
       "      <th>24</th>\n",
       "      <td>这次是在情人节当天过去的，以前从来没在情人节正日子出来过，不是因为没有男朋友，而是感觉哪哪人...</td>\n",
       "      <td>2017-02-20 16:00:00</td>\n",
       "      <td>0.0000</td>\n",
       "    </tr>\n",
       "    <tr>\n",
       "      <th>10</th>\n",
       "      <td>服务好赞！外送小哥实际A餐厅自己配的，送之前一个电话说别急已经在送的路上，送到后也一个电话说...</td>\n",
       "      <td>2017-04-10 16:00:00</td>\n",
       "      <td>0.0002</td>\n",
       "    </tr>\n",
       "    <tr>\n",
       "      <th>15</th>\n",
       "      <td>话说我真的很久很久没有吃A餐厅了，朋友想吃，我俩就过来了。她喜欢番茄锅，所以我们点了牛油麻辣...</td>\n",
       "      <td>2017-04-25 16:00:00</td>\n",
       "      <td>0.0012</td>\n",
       "    </tr>\n",
       "    <tr>\n",
       "      <th>7</th>\n",
       "      <td>A餐厅真的是天津每一个店我都来过无数次了！&lt;br&gt;今天觉得我拍的图很好看hhhh于是就来发条...</td>\n",
       "      <td>2017-05-20 16:00:00</td>\n",
       "      <td>0.0064</td>\n",
       "    </tr>\n",
       "  </tbody>\n",
       "</table>\n",
       "</div>"
      ],
      "text/plain": [
       "                                             comments                date  \\\n",
       "24  这次是在情人节当天过去的，以前从来没在情人节正日子出来过，不是因为没有男朋友，而是感觉哪哪人... 2017-02-20 16:00:00   \n",
       "10  服务好赞！外送小哥实际A餐厅自己配的，送之前一个电话说别急已经在送的路上，送到后也一个电话说... 2017-04-10 16:00:00   \n",
       "15  话说我真的很久很久没有吃A餐厅了，朋友想吃，我俩就过来了。她喜欢番茄锅，所以我们点了牛油麻辣... 2017-04-25 16:00:00   \n",
       "7   A餐厅真的是天津每一个店我都来过无数次了！<br>今天觉得我拍的图很好看hhhh于是就来发条... 2017-05-20 16:00:00   \n",
       "\n",
       "    sentiment  \n",
       "24     0.0000  \n",
       "10     0.0002  \n",
       "15     0.0012  \n",
       "7      0.0064  "
      ]
     },
     "execution_count": 16,
     "metadata": {},
     "output_type": "execute_result"
    }
   ],
   "source": [
    "#筛选sentiment < 0.01的数据\n",
    "low_sentiment = df.query('sentiment < 0.01')\n",
    "low_sentiment"
   ]
  },
  {
   "cell_type": "code",
   "execution_count": 27,
   "metadata": {},
   "outputs": [
    {
     "data": {
      "text/plain": [
       "'这次是在情人节当天过去的，以前从来没在情人节正日子出来过，不是因为没有男朋友，而是感觉哪哪人都多，所以特意错开，这次实在是馋A餐厅了，所以赶在正日子也出来了，从下午四点多的时候我看排号就排到一百多了，我从家开车过去得堵的话一个小时，我一看提前两个小时就在网上先排着号了，差不多我们是六点半到的，到那的时候我看号码前面还有才三十多号，我想着肯定没问题了，等一会就能吃上的，没想到悲剧了，就从我们到那坐到等位区开始，大约是十分二十分一叫号，中途多次我都想走了，哈哈，哎，等到最后早上九点才吃上的，服务员感觉也没以前清闲时周到了，不过这肯定的，一人负责好几桌，今天节日这么多人，肯定是很累的，所以大多也都是我自己跑腿，没让服务员给弄太多，就虾滑让服务员下的，然后环境来说感觉卫生方面是不错，就是有些太吵了，味道还是一如既往的那个味道，不过A餐厅最人性化的就是看我们等了两个多小时，上来送了我们一张打折卡，而且当次就可以使用，这点感觉还是挺好的，不愧是A餐厅，就是比一般的要人性化，不过这次就是选错日子了，以后还是得提前预约，要不就别赶节日去，太火爆了！'"
      ]
     },
     "execution_count": 27,
     "metadata": {},
     "output_type": "execute_result"
    }
   ],
   "source": [
    "low_sentiment.iloc[0].comments"
   ]
  },
  {
   "cell_type": "code",
   "execution_count": 28,
   "metadata": {},
   "outputs": [
    {
     "data": {
      "text/plain": [
       "'服务好赞！外送小哥实际A餐厅自己配的，送之前一个电话说别急已经在送的路上，送到后也一个电话说用餐时服务需要依然可以随时联系，简直不能再赞了！！帮做好一切开餐前准备工作，坐等锅开涮着吃?<br>除了点的麻酱，备注的需要辣油和蒜泥也一一满足，其中点的虾滑也提供了搭配蘸料，鸭血提供了搭配干料，另外送来凉菜和新鲜水果。各种满足。'"
      ]
     },
     "execution_count": 28,
     "metadata": {},
     "output_type": "execute_result"
    }
   ],
   "source": [
    "low_sentiment.iloc[1].comments"
   ]
  },
  {
   "cell_type": "code",
   "execution_count": 29,
   "metadata": {},
   "outputs": [
    {
     "data": {
      "text/plain": [
       "'话说我真的很久很久没有吃A餐厅了，朋友想吃，我俩就过来了。她喜欢番茄锅，所以我们点了牛油麻辣和番茄双拼，现在真是贵啊，锅底就要84元，然后又点了牛肉羊肉各半分，还有一些蔬菜，吃的饱饱的。<br>自助的小菜没有吃，但是西瓜不错很甜。工作日的中午人不多，服务太热情了有点受不了，其实就想和朋友聊聊天，服务员不停加水，哎！！！'"
      ]
     },
     "execution_count": 29,
     "metadata": {},
     "output_type": "execute_result"
    }
   ],
   "source": [
    "low_sentiment.iloc[2].comments"
   ]
  },
  {
   "cell_type": "code",
   "execution_count": 30,
   "metadata": {},
   "outputs": [
    {
     "data": {
      "text/plain": [
       "'A餐厅真的是天津每一个店我都来过无数次了！<br>今天觉得我拍的图很好看hhhh于是就来发条点评<br>以前一直喜欢去吉利大厦店因为好像那个店料比较全以为新开路的料不全<br>后来才发现这家店有小的小料台和大的小料台<br>大家如果发现料不全可以去别的小料台找找<br><br>一直在学校里跟同桌得啵得啵说A餐厅如同吸毒<br>一个月不吃就想吃到不行<br>终于抽出时间来吃了<br>推荐大家吃新出的鱼饼比鱼豆腐好吃一百倍啊！！多煮一会更好吃！'"
      ]
     },
     "execution_count": 30,
     "metadata": {},
     "output_type": "execute_result"
    }
   ],
   "source": [
    "low_sentiment.iloc[3].comments"
   ]
  }
 ],
 "metadata": {
  "kernelspec": {
   "display_name": "Python [conda env:py3]",
   "language": "python",
   "name": "conda-env-py3-py"
  },
  "language_info": {
   "codemirror_mode": {
    "name": "ipython",
    "version": 3
   },
   "file_extension": ".py",
   "mimetype": "text/x-python",
   "name": "python",
   "nbconvert_exporter": "python",
   "pygments_lexer": "ipython3",
   "version": "3.7.2"
  },
  "toc": {
   "base_numbering": 1,
   "nav_menu": {},
   "number_sections": true,
   "sideBar": true,
   "skip_h1_title": false,
   "title_cell": "Table of Contents",
   "title_sidebar": "Contents",
   "toc_cell": false,
   "toc_position": {},
   "toc_section_display": true,
   "toc_window_display": false
  }
 },
 "nbformat": 4,
 "nbformat_minor": 2
}
